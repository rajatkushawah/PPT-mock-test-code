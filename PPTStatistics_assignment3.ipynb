{
 "cells": [
  {
   "cell_type": "markdown",
   "id": "96982a97",
   "metadata": {},
   "source": [
    "que1- Scenario: A company wants to analyze the sales performance of its products in different regions. They have collected the following data:\n",
    "\n",
    "Region A: [10, 15, 12, 8, 14]\n",
    "\n",
    "Region B: [18, 20, 16, 22, 25]\n",
    "\n",
    "Calculate the mean sales for each region."
   ]
  },
  {
   "cell_type": "markdown",
   "id": "5085c299",
   "metadata": {},
   "source": [
    "ans1- "
   ]
  },
  {
   "cell_type": "code",
   "execution_count": 3,
   "id": "85ed5657",
   "metadata": {},
   "outputs": [
    {
     "name": "stdout",
     "output_type": "stream",
     "text": [
      "Mean sales for Region A: 11.8\n",
      "Mean sales for Region B: 20.2\n"
     ]
    }
   ],
   "source": [
    "import numpy as np\n",
    "\n",
    "def mean_sales(sales):\n",
    "    \n",
    "    return np.mean(sales)\n",
    "\n",
    "region_a_sales = [10, 15, 12, 8, 14]\n",
    "region_b_sales = [18, 20, 16, 22, 25]\n",
    "\n",
    "mean_region_a = mean_sales(region_a_sales)\n",
    "mean_region_b = mean_sales(region_b_sales)\n",
    "\n",
    "print(\"Mean sales for Region A:\", mean_region_a)\n",
    "print(\"Mean sales for Region B:\", mean_region_b)"
   ]
  },
  {
   "cell_type": "markdown",
   "id": "bed4f93f",
   "metadata": {},
   "source": [
    "que2- Scenario: A survey is conducted to measure customer satisfaction on a scale of 1 to 5. The data collected is as follows:\n",
    "\n",
    "[4, 5, 2, 3, 5, 4, 3, 2, 4, 5]\n",
    "\n",
    "Calculate the mode of the survey responses."
   ]
  },
  {
   "cell_type": "markdown",
   "id": "3c68c8ef",
   "metadata": {},
   "source": [
    "ans2- "
   ]
  },
  {
   "cell_type": "code",
   "execution_count": 6,
   "id": "af3aae14",
   "metadata": {},
   "outputs": [
    {
     "name": "stdout",
     "output_type": "stream",
     "text": [
      "Mode of the survey responses: 4\n"
     ]
    }
   ],
   "source": [
    "import statistics\n",
    "\n",
    "def survey_mode(survey_responses):\n",
    "    try:\n",
    "        mode = statistics.mode(survey_responses)\n",
    "        return mode\n",
    "    except statistics.StatisticsError:\n",
    "        return \"No unique mode\"\n",
    "\n",
    "survey_responses = [4, 5, 2, 3, 5, 4, 3, 2, 4, 5]\n",
    "mode = survey_mode(survey_responses)\n",
    "print(\"Mode of the survey responses:\", mode)"
   ]
  },
  {
   "cell_type": "markdown",
   "id": "2e06d331",
   "metadata": {},
   "source": [
    "que3- Scenario: A company wants to compare the salaries of two departments. The salary data for Department A and Department B are as follows:\n",
    "\n",
    "Department A: [5000, 6000, 5500, 7000]\n",
    "\n",
    "Department B: [4500, 5500, 5800, 6000, 5200]\n",
    "\n",
    "Calculate the median salary for each department."
   ]
  },
  {
   "cell_type": "markdown",
   "id": "3bcb6a22",
   "metadata": {},
   "source": [
    "ans3- "
   ]
  },
  {
   "cell_type": "code",
   "execution_count": 8,
   "id": "79980eb0",
   "metadata": {},
   "outputs": [
    {
     "name": "stdout",
     "output_type": "stream",
     "text": [
      "Median Salary for Department A: 5750.0\n",
      "Median Salary for Department B: 5500\n"
     ]
    }
   ],
   "source": [
    "import statistics\n",
    "\n",
    "def median_salary(salary_data):\n",
    "    \n",
    "    return statistics.median(salary_data)\n",
    "\n",
    "# Salary data for Department A and Department B\n",
    "department_a = [5000, 6000, 5500, 7000]\n",
    "department_b = [4500, 5500, 5800, 6000, 5200]\n",
    "\n",
    "# Calculate median salary for each department using the statistics module\n",
    "median_a = median_salary(department_a)\n",
    "median_b = median_salary(department_b)\n",
    "\n",
    "print(\"Median Salary for Department A:\", median_a)\n",
    "print(\"Median Salary for Department B:\", median_b)"
   ]
  },
  {
   "cell_type": "markdown",
   "id": "d4b76b1c",
   "metadata": {},
   "source": [
    "que4- Scenario: A data analyst wants to determine the variability in the daily stock prices of a company. The data collected is as follows:\n",
    "\n",
    "[25.5, 24.8, 26.1, 25.3, 24.9]\n",
    "\n",
    "Calculate the range of the stock prices."
   ]
  },
  {
   "cell_type": "markdown",
   "id": "606a419a",
   "metadata": {},
   "source": [
    "ans4- "
   ]
  },
  {
   "cell_type": "code",
   "execution_count": 12,
   "id": "fccb5e2b",
   "metadata": {},
   "outputs": [
    {
     "name": "stdout",
     "output_type": "stream",
     "text": [
      "Range of Stock Prices: 1.3000000000000007\n"
     ]
    }
   ],
   "source": [
    "def range_of_sp(stock_prices):\n",
    "    \n",
    "    price_range = max(stock_prices) - min(stock_prices)\n",
    "    return price_range\n",
    "\n",
    "stock_prices = [25.5, 24.8, 26.1, 25.3, 24.9]\n",
    "price_range = range_of_sp(stock_prices)\n",
    "print(\"Range of Stock Prices:\", price_range)"
   ]
  },
  {
   "cell_type": "markdown",
   "id": "d8892cfb",
   "metadata": {},
   "source": [
    "que5- Scenario: A study is conducted to compare the performance of two different teaching\n",
    "methods. The test scores of the students in each group are as follows:\n",
    "\n",
    "Group A: [85, 90, 92, 88, 91]\n",
    "\n",
    "Group B: [82, 88, 90, 86, 87]\n",
    "\n",
    "Perform a t-test to determine if there is a significant difference in the mean scores between the\n",
    "two groups."
   ]
  },
  {
   "cell_type": "markdown",
   "id": "dc472cc4",
   "metadata": {},
   "source": [
    "ans5- "
   ]
  },
  {
   "cell_type": "code",
   "execution_count": 13,
   "id": "c8c0b238",
   "metadata": {},
   "outputs": [
    {
     "name": "stdout",
     "output_type": "stream",
     "text": [
      "There is no significant difference between the mean scores of the two groups.\n",
      "T-statistic: 1.4312528946642733\n",
      "P-value: 0.19023970239078333\n"
     ]
    }
   ],
   "source": [
    "import scipy.stats as stats\n",
    "\n",
    "group_a_scores = [85, 90, 92, 88, 91]\n",
    "group_b_scores = [82, 88, 90, 86, 87]\n",
    "\n",
    "# Perform t-test\n",
    "t_statistic, p_value = stats.ttest_ind(group_a_scores, group_b_scores)\n",
    "\n",
    "alpha = 0.05  # significance level\n",
    "\n",
    "if p_value < alpha:\n",
    "    print(\"There is a significant difference between the mean scores of the two groups.\")\n",
    "else:\n",
    "    print(\"There is no significant difference between the mean scores of the two groups.\")\n",
    "\n",
    "print(\"T-statistic:\", t_statistic)\n",
    "print(\"P-value:\", p_value)"
   ]
  },
  {
   "cell_type": "markdown",
   "id": "f281d639",
   "metadata": {},
   "source": [
    "que6- Scenario: A company wants to analyze the relationship between advertising expenditure and\n",
    "sales. The data collected is as follows:\n",
    "\n",
    "Advertising Expenditure (in thousands): [10, 15, 12, 8, 14]\n",
    "\n",
    "Sales (in thousands): [25, 30, 28, 20, 26]\n",
    "\n",
    "Calculate the correlation coefficient between advertising expenditure and sales."
   ]
  },
  {
   "cell_type": "markdown",
   "id": "04a6981e",
   "metadata": {},
   "source": [
    "ans6- "
   ]
  },
  {
   "cell_type": "code",
   "execution_count": 15,
   "id": "4bd70b81",
   "metadata": {},
   "outputs": [
    {
     "name": "stdout",
     "output_type": "stream",
     "text": [
      "Correlation Coefficient: 0.8757511375750132\n"
     ]
    }
   ],
   "source": [
    "import numpy as np\n",
    "\n",
    "advertising_expenditure = [10, 15, 12, 8, 14]\n",
    "sales = [25, 30, 28, 20, 26]\n",
    "\n",
    "# Calculate correlation coefficient\n",
    "correlation_coefficient = np.corrcoef(advertising_expenditure, sales)[0, 1]\n",
    "\n",
    "print(\"Correlation Coefficient:\", correlation_coefficient)"
   ]
  },
  {
   "cell_type": "markdown",
   "id": "c5d2c3df",
   "metadata": {},
   "source": [
    "que7- Scenario: A survey is conducted to measure the heights of a group of people. The data\n",
    "collected is as follows:\n",
    "\n",
    "[160, 170, 165, 155, 175, 180, 170]\n",
    "\n",
    "Calculate the standard deviation of the heights."
   ]
  },
  {
   "cell_type": "markdown",
   "id": "8f600669",
   "metadata": {},
   "source": [
    "ans7- "
   ]
  },
  {
   "cell_type": "code",
   "execution_count": 16,
   "id": "d6dc608a",
   "metadata": {},
   "outputs": [
    {
     "name": "stdout",
     "output_type": "stream",
     "text": [
      "Standard Deviation: 7.953949089757174\n"
     ]
    }
   ],
   "source": [
    "import numpy as np\n",
    "\n",
    "heights = [160, 170, 165, 155, 175, 180, 170]\n",
    "\n",
    "# Calculate standard deviation\n",
    "std_deviation = np.std(heights)\n",
    "\n",
    "print(\"Standard Deviation:\", std_deviation)"
   ]
  },
  {
   "cell_type": "markdown",
   "id": "7e53eb4c",
   "metadata": {},
   "source": [
    "que8- Scenario: A company wants to analyze the relationship between employee tenure and job\n",
    "satisfaction. The data collected is as follows:\n",
    "\n",
    "Employee Tenure (in years): [2, 3, 5, 4, 6, 2, 4]\n",
    "\n",
    "Job Satisfaction (on a scale of 1 to 10): [7, 8, 6, 9, 5, 7, 6]\n",
    "\n",
    "Perform a linear regression analysis to predict job satisfaction based on employee tenure."
   ]
  },
  {
   "cell_type": "markdown",
   "id": "1097dbe4",
   "metadata": {},
   "source": [
    "ans8- "
   ]
  },
  {
   "cell_type": "code",
   "execution_count": 17,
   "id": "3cf49e47",
   "metadata": {},
   "outputs": [
    {
     "name": "stdout",
     "output_type": "stream",
     "text": [
      "Predicted Job Satisfaction: [6.95744681]\n"
     ]
    }
   ],
   "source": [
    "import numpy as np\n",
    "from sklearn.linear_model import LinearRegression\n",
    "\n",
    "# Data\n",
    "employee_tenure = np.array([2, 3, 5, 4, 6, 2, 4]).reshape(-1, 1)\n",
    "job_satisfaction = np.array([7, 8, 6, 9, 5, 7, 6])\n",
    "\n",
    "# Create and fit the linear regression model\n",
    "model = LinearRegression()\n",
    "model.fit(employee_tenure, job_satisfaction)\n",
    "\n",
    "# Predict job satisfaction for a new employee tenure\n",
    "new_employee_tenure = np.array([[3.5]])\n",
    "predicted_job_satisfaction = model.predict(new_employee_tenure)\n",
    "\n",
    "print(\"Predicted Job Satisfaction:\", predicted_job_satisfaction)"
   ]
  },
  {
   "cell_type": "markdown",
   "id": "37ec5073",
   "metadata": {},
   "source": [
    "que9- Scenario: A study is conducted to compare the effectiveness of two different medications.\n",
    "The recovery times of the patients in each group are as follows:\n",
    "\n",
    "Medication A: [10, 12, 14, 11, 13]\n",
    "\n",
    "Medication B: [15, 17, 16, 14, 18]\n",
    "\n",
    "Perform an analysis of variance (ANOVA) to determine if there is a significant difference in the\n",
    "mean recovery times between the two medications."
   ]
  },
  {
   "cell_type": "markdown",
   "id": "1ce5bee0",
   "metadata": {},
   "source": [
    "ans9- "
   ]
  },
  {
   "cell_type": "code",
   "execution_count": 19,
   "id": "847ba467",
   "metadata": {},
   "outputs": [
    {
     "name": "stdout",
     "output_type": "stream",
     "text": [
      "F-statistic: 16.0\n",
      "p-value: 0.003949772803445326\n"
     ]
    }
   ],
   "source": [
    "import numpy as np\n",
    "from scipy.stats import f_oneway\n",
    "\n",
    "# Data\n",
    "medication_a = np.array([10, 12, 14, 11, 13])\n",
    "medication_b = np.array([15, 17, 16, 14, 18])\n",
    "\n",
    "# Perform ANOVA\n",
    "f_statistic, p_value = f_oneway(medication_a, medication_b)\n",
    "\n",
    "print(\"F-statistic:\", f_statistic)\n",
    "print(\"p-value:\", p_value)"
   ]
  },
  {
   "cell_type": "markdown",
   "id": "de04899f",
   "metadata": {},
   "source": [
    "que10- Scenario: A company wants to analyze customer feedback ratings on a scale of 1 to 10. The data collected is as follows:\n",
    "\n",
    "[8, 9, 7, 6, 8, 10, 9, 8, 7, 8]\n",
    "\n",
    "Calculate the 75th percentile of the feedback ratings."
   ]
  },
  {
   "cell_type": "code",
   "execution_count": 20,
   "id": "5964b43b",
   "metadata": {},
   "outputs": [
    {
     "name": "stdout",
     "output_type": "stream",
     "text": [
      "75th percentile: 8.75\n"
     ]
    }
   ],
   "source": [
    "import numpy as np\n",
    "\n",
    "# Data\n",
    "feedback_ratings = np.array([8, 9, 7, 6, 8, 10, 9, 8, 7, 8])\n",
    "\n",
    "# Calculate 75th percentile\n",
    "percentile_75 = np.percentile(feedback_ratings, 75)\n",
    "\n",
    "print(\"75th percentile:\", percentile_75)"
   ]
  },
  {
   "cell_type": "markdown",
   "id": "473f30ca",
   "metadata": {},
   "source": [
    "que11- Scenario: A quality control department wants to test the weight consistency of a product.\n",
    "The weights of a sample of products are as follows:\n",
    "\n",
    "[10.2, 9.8, 10.0, 10.5, 10.3, 10.1]\n",
    "\n",
    "Perform a hypothesis test to determine if the mean weight differs significantly from 10 grams."
   ]
  },
  {
   "cell_type": "markdown",
   "id": "bd86946e",
   "metadata": {},
   "source": [
    "ans11- "
   ]
  },
  {
   "cell_type": "code",
   "execution_count": 23,
   "id": "b9d3e38c",
   "metadata": {},
   "outputs": [
    {
     "name": "stdout",
     "output_type": "stream",
     "text": [
      "T-statistic: 1.5126584522688367\n",
      "P-value: 0.19077595151110102\n"
     ]
    }
   ],
   "source": [
    "import scipy.stats as stats\n",
    "\n",
    "# Data\n",
    "weights = [10.2, 9.8, 10.0, 10.5, 10.3, 10.1]\n",
    "\n",
    "# Perform t-test\n",
    "t_statistic, p_value = stats.ttest_1samp(weights, 10)\n",
    "\n",
    "# Print results\n",
    "print(\"T-statistic:\", t_statistic)\n",
    "print(\"P-value:\", p_value)"
   ]
  },
  {
   "cell_type": "markdown",
   "id": "d4a16b76",
   "metadata": {},
   "source": [
    "que12- Scenario: A company wants to analyze the click-through rates of two different website\n",
    "designs. The number of clicks for each design is as follows:\n",
    "\n",
    "Design A: [100, 120, 110, 90, 95]\n",
    "\n",
    "Design B: [80, 85, 90, 95, 100]\n",
    "\n",
    "Perform a chi-square test to determine if there is a significant difference in the click-through\n",
    "rates between the two designs."
   ]
  },
  {
   "cell_type": "markdown",
   "id": "5759f273",
   "metadata": {},
   "source": [
    "ans12- "
   ]
  },
  {
   "cell_type": "code",
   "execution_count": 25,
   "id": "20e27372",
   "metadata": {},
   "outputs": [
    {
     "name": "stdout",
     "output_type": "stream",
     "text": [
      "Chi-square statistic: 6.110658166925435\n",
      "P-value: 0.19103526314060293\n"
     ]
    }
   ],
   "source": [
    "import scipy.stats as stats\n",
    "import numpy as np\n",
    "\n",
    "# Data\n",
    "clicks_design_A = [100, 120, 110, 90, 95]\n",
    "clicks_design_B = [80, 85, 90, 95, 100]\n",
    "\n",
    "# Create contingency table\n",
    "observed = np.array([clicks_design_A, clicks_design_B])\n",
    "\n",
    "# Perform chi-square test\n",
    "chi2_statistic, p_value, _, _ = stats.chi2_contingency(observed)\n",
    "\n",
    "# Print results\n",
    "print(\"Chi-square statistic:\", chi2_statistic)\n",
    "print(\"P-value:\", p_value)"
   ]
  },
  {
   "cell_type": "markdown",
   "id": "0ec0d5de",
   "metadata": {},
   "source": [
    "que13- Scenario: A survey is conducted to measure customer satisfaction with a product on a scale\n",
    "of 1 to 10. The data collected is as follows:\n",
    "\n",
    "[7, 9, 6, 8, 10, 7, 8, 9, 7, 8]\n",
    "\n",
    "Calculate the 95% confidence interval for the population mean satisfaction score."
   ]
  },
  {
   "cell_type": "markdown",
   "id": "d128dc9b",
   "metadata": {},
   "source": [
    "ans13- "
   ]
  },
  {
   "cell_type": "code",
   "execution_count": 30,
   "id": "6b25574f",
   "metadata": {},
   "outputs": [
    {
     "name": "stdout",
     "output_type": "stream",
     "text": [
      "Sample mean: 7.9\n",
      "Sample standard deviation: 1.1972189997378646\n",
      "Sample size: 10\n",
      "Confidence interval: (7.043561120599888, 8.756438879400113)\n"
     ]
    }
   ],
   "source": [
    "import scipy.stats as stats\n",
    "import numpy as np\n",
    "\n",
    "# Data\n",
    "satisfaction_scores = [7, 9, 6, 8, 10, 7, 8, 9, 7, 8]\n",
    "\n",
    "# Calculate sample statistics\n",
    "sample_mean = np.mean(satisfaction_scores)\n",
    "sample_std = np.std(satisfaction_scores, ddof=1)  # Use Bessel's correction for sample standard deviation\n",
    "sample_size = len(satisfaction_scores)\n",
    "\n",
    "# Set the desired confidence level\n",
    "confidence_level = 0.95\n",
    "\n",
    "# Calculate the critical value for the t-distribution\n",
    "t_critical = stats.t.ppf((1 + confidence_level) / 2, df=sample_size-1)\n",
    "\n",
    "# Calculate the standard error\n",
    "standard_error = sample_std / np.sqrt(sample_size)\n",
    "\n",
    "# Calculate the margin of error\n",
    "margin_of_error = t_critical * standard_error\n",
    "\n",
    "# Calculate the confidence interval\n",
    "confidence_interval = (sample_mean - margin_of_error, sample_mean + margin_of_error)\n",
    "\n",
    "# Print results\n",
    "print(\"Sample mean:\", sample_mean)\n",
    "print(\"Sample standard deviation:\", sample_std)\n",
    "print(\"Sample size:\", sample_size)\n",
    "print(\"Confidence interval:\", confidence_interval)"
   ]
  },
  {
   "cell_type": "markdown",
   "id": "84690e48",
   "metadata": {},
   "source": [
    "que14- Scenario: A company wants to analyze the effect of temperature on product performance.\n",
    "The data collected is as follows:\n",
    "\n",
    "Temperature (in degrees Celsius): [20, 22, 23, 19, 21]\n",
    "\n",
    "Performance (on a scale of 1 to 10): [8, 7, 9, 6, 8]\n",
    "\n",
    "Perform a simple linear regression to predict performance based on temperature."
   ]
  },
  {
   "cell_type": "markdown",
   "id": "beeda94a",
   "metadata": {},
   "source": [
    "ans14- "
   ]
  },
  {
   "cell_type": "code",
   "execution_count": 37,
   "id": "e6e8dde1",
   "metadata": {},
   "outputs": [
    {
     "name": "stdout",
     "output_type": "stream",
     "text": [
      "                            OLS Regression Results                            \n",
      "==============================================================================\n",
      "Dep. Variable:                      y   R-squared:                       0.481\n",
      "Model:                            OLS   Adj. R-squared:                  0.308\n",
      "Method:                 Least Squares   F-statistic:                     2.778\n",
      "Date:                Fri, 14 Jul 2023   Prob (F-statistic):              0.194\n",
      "Time:                        21:27:14   Log-Likelihood:                -5.5542\n",
      "No. Observations:                   5   AIC:                             15.11\n",
      "Df Residuals:                       3   BIC:                             14.33\n",
      "Df Model:                           1                                         \n",
      "Covariance Type:            nonrobust                                         \n",
      "==============================================================================\n",
      "                 coef    std err          t      P>|t|      [0.025      0.975]\n",
      "------------------------------------------------------------------------------\n",
      "const         -2.9000      6.314     -0.459      0.677     -22.995      17.195\n",
      "x1             0.5000      0.300      1.667      0.194      -0.455       1.455\n",
      "==============================================================================\n",
      "Omnibus:                          nan   Durbin-Watson:                   3.056\n",
      "Prob(Omnibus):                    nan   Jarque-Bera (JB):                0.522\n",
      "Skew:                          -0.348   Prob(JB):                        0.770\n",
      "Kurtosis:                       1.578   Cond. No.                         314.\n",
      "==============================================================================\n",
      "\n",
      "Notes:\n",
      "[1] Standard Errors assume that the covariance matrix of the errors is correctly specified.\n"
     ]
    },
    {
     "name": "stderr",
     "output_type": "stream",
     "text": [
      "C:\\Users\\Rajat\\anaconda3\\lib\\site-packages\\statsmodels\\stats\\stattools.py:74: ValueWarning: omni_normtest is not valid with less than 8 observations; 5 samples were given.\n",
      "  warn(\"omni_normtest is not valid with less than 8 observations; %i \"\n"
     ]
    }
   ],
   "source": [
    "import statsmodels.api as sm\n",
    "import numpy as np\n",
    "\n",
    "# Data\n",
    "temperature = [20, 22, 23, 19, 21]\n",
    "performance = [8, 7, 9, 6, 8]\n",
    "\n",
    "# Add a constant term to the temperature data\n",
    "temperature = sm.add_constant(temperature)\n",
    "\n",
    "# Create the linear regression model\n",
    "model = sm.OLS(performance, temperature)\n",
    "\n",
    "# Fit the model to the data\n",
    "results = model.fit()\n",
    "\n",
    "# Print the regression results\n",
    "print(results.summary())"
   ]
  },
  {
   "cell_type": "markdown",
   "id": "ef7fc4c7",
   "metadata": {},
   "source": [
    "que15- Scenario: A study is conducted to compare the preferences of two groups of participants.\n",
    "The preferences are measured on a Likert scale from 1 to 5. The data collected is as follows:\n",
    "\n",
    "Group A: [4, 3, 5, 2, 4]\n",
    "\n",
    "Group B: [3, 2, 4, 3, 3]\n",
    "\n",
    "Perform a Mann-Whitney U test to determine if there is a significant difference in the median\n",
    "preferences between the two groups."
   ]
  },
  {
   "cell_type": "markdown",
   "id": "2a9acd2c",
   "metadata": {},
   "source": [
    "ans15- "
   ]
  },
  {
   "cell_type": "code",
   "execution_count": 40,
   "id": "181c3768",
   "metadata": {},
   "outputs": [
    {
     "name": "stdout",
     "output_type": "stream",
     "text": [
      "Mann-Whitney U statistic: 17.0\n",
      "p-value: 0.380836480306712\n"
     ]
    }
   ],
   "source": [
    "from scipy.stats import mannwhitneyu\n",
    "\n",
    "# Data\n",
    "group_a = [4, 3, 5, 2, 4]\n",
    "group_b = [3, 2, 4, 3, 3]\n",
    "\n",
    "# Perform the Mann-Whitney U test\n",
    "statistic, p_value = mannwhitneyu(group_a, group_b, alternative='two-sided')\n",
    "\n",
    "# Print the test result\n",
    "print(\"Mann-Whitney U statistic:\", statistic)\n",
    "print(\"p-value:\", p_value)"
   ]
  },
  {
   "cell_type": "markdown",
   "id": "0979d9b3",
   "metadata": {},
   "source": [
    "que16- Scenario: A company wants to analyze the distribution of customer ages. The data collected\n",
    "is as follows:\n",
    "\n",
    "[25, 30, 35, 40, 45, 50, 55, 60, 65, 70]\n",
    "\n",
    "Calculate the interquartile range (IQR) of the ages."
   ]
  },
  {
   "cell_type": "markdown",
   "id": "bacbb6c0",
   "metadata": {},
   "source": [
    "ans16- "
   ]
  },
  {
   "cell_type": "code",
   "execution_count": 42,
   "id": "14eb735d",
   "metadata": {},
   "outputs": [
    {
     "name": "stdout",
     "output_type": "stream",
     "text": [
      "Q1: 36.25\n",
      "Q3: 58.75\n",
      "IQR: 22.5\n"
     ]
    }
   ],
   "source": [
    "import numpy as np\n",
    "\n",
    "# Data\n",
    "ages = [25, 30, 35, 40, 45, 50, 55, 60, 65, 70]\n",
    "\n",
    "# Calculate Q1, Q3, and IQR\n",
    "q1 = np.percentile(ages, 25)\n",
    "q3 = np.percentile(ages, 75)\n",
    "iqr = q3 - q1\n",
    "\n",
    "# Print the result\n",
    "print(\"Q1:\", q1)\n",
    "print(\"Q3:\", q3)\n",
    "print(\"IQR:\", iqr)"
   ]
  },
  {
   "cell_type": "markdown",
   "id": "01ec5ccc",
   "metadata": {},
   "source": [
    "que17- Scenario: A study is conducted to compare the performance of three different machine\n",
    "learning algorithms. The accuracy scores for each algorithm are as follows:\n",
    "\n",
    "Algorithm A: [0.85, 0.80, 0.82, 0.87, 0.83]\n",
    "\n",
    "Algorithm B: [0.78, 0.82, 0.84, 0.80, 0.79]\n",
    "\n",
    "Algorithm C: [0.90, 0.88, 0.89, 0.86, 0.87]\n",
    "\n",
    "Perform a Kruskal-Wallis test to determine if there is a significant difference in the median\n",
    "accuracy scores between the algorithms."
   ]
  },
  {
   "cell_type": "markdown",
   "id": "a6f2ec55",
   "metadata": {},
   "source": [
    "ans17- "
   ]
  },
  {
   "cell_type": "code",
   "execution_count": 45,
   "id": "bc9c285b",
   "metadata": {},
   "outputs": [
    {
     "name": "stdout",
     "output_type": "stream",
     "text": [
      "Kruskal-Wallis Test:\n",
      "Statistic: 9.696947935368053\n",
      "p-value: 0.007840333026249539\n"
     ]
    }
   ],
   "source": [
    "from scipy.stats import kruskal\n",
    "\n",
    "# Accuracy scores for each algorithm\n",
    "algorithm_a = [0.85, 0.80, 0.82, 0.87, 0.83]\n",
    "algorithm_b = [0.78, 0.82, 0.84, 0.80, 0.79]\n",
    "algorithm_c = [0.90, 0.88, 0.89, 0.86, 0.87]\n",
    "\n",
    "# Perform Kruskal-Wallis test\n",
    "statistic, p_value = kruskal(algorithm_a, algorithm_b, algorithm_c)\n",
    "\n",
    "# Print the result\n",
    "print(\"Kruskal-Wallis Test:\")\n",
    "print(\"Statistic:\", statistic)\n",
    "print(\"p-value:\", p_value)"
   ]
  },
  {
   "cell_type": "markdown",
   "id": "359d59b1",
   "metadata": {},
   "source": [
    "que18- Scenario: A company wants to analyze the effect of price on sales. The data collected is as follows:\n",
    "\n",
    "Price (in dollars): [10, 15, 12, 8, 14]\n",
    "\n",
    "Sales: [100, 80, 90, 110, 95]\n",
    "\n",
    "Perform a simple linear regression to predict sales based on price."
   ]
  },
  {
   "cell_type": "markdown",
   "id": "0a09d578",
   "metadata": {},
   "source": [
    "ans18- "
   ]
  },
  {
   "cell_type": "code",
   "execution_count": 50,
   "id": "4f304529",
   "metadata": {},
   "outputs": [
    {
     "name": "stdout",
     "output_type": "stream",
     "text": [
      "Intercept: 136.3719512195122\n",
      "Coefficient: -3.506097560975611\n",
      "Predicted Sales: 90.79268292682926\n"
     ]
    }
   ],
   "source": [
    "from sklearn.linear_model import LinearRegression\n",
    "\n",
    "# Price and Sales data\n",
    "price = [[10], [15], [12], [8], [14]]\n",
    "sales = [100, 80, 90, 110, 95]\n",
    "\n",
    "# Create and fit the linear regression model\n",
    "model = LinearRegression()\n",
    "model.fit(price, sales)\n",
    "\n",
    "# Print the regression coefficients\n",
    "print(\"Intercept:\", model.intercept_)\n",
    "print(\"Coefficient:\", model.coef_[0])\n",
    "\n",
    "# Predict sales for a new price\n",
    "new_price = [[13]]\n",
    "predicted_sales = model.predict(new_price)\n",
    "print(\"Predicted Sales:\", predicted_sales[0])"
   ]
  },
  {
   "cell_type": "markdown",
   "id": "1e135655",
   "metadata": {},
   "source": [
    "que19- Scenario: A survey is conducted to measure the satisfaction levels of customers with a new\n",
    "product. The data collected is as follows:\n",
    "\n",
    "[7, 8, 9, 6, 8, 7, 9, 7, 8, 7]\n",
    "\n",
    "Calculate the standard error of the mean satisfaction score."
   ]
  },
  {
   "cell_type": "markdown",
   "id": "8e1a3107",
   "metadata": {},
   "source": [
    "ans19- "
   ]
  },
  {
   "cell_type": "code",
   "execution_count": 54,
   "id": "a26c779e",
   "metadata": {},
   "outputs": [
    {
     "name": "stdout",
     "output_type": "stream",
     "text": [
      "Standard Error: 0.28982753492378877\n"
     ]
    }
   ],
   "source": [
    "import numpy as np\n",
    "\n",
    "# Satisfaction scores\n",
    "scores = [7, 8, 9, 6, 8, 7, 9, 7, 8, 7]\n",
    "\n",
    "# Calculate standard deviation\n",
    "std_dev = np.std(scores)\n",
    "\n",
    "# Calculate standard error\n",
    "n = len(scores)\n",
    "standard_error = std_dev / np.sqrt(n)\n",
    "\n",
    "# Print the standard error\n",
    "print(\"Standard Error:\", standard_error)"
   ]
  },
  {
   "cell_type": "markdown",
   "id": "a1670d66",
   "metadata": {},
   "source": [
    "que20- Scenario: A company wants to analyze the relationship between advertising expenditure\n",
    "and sales. The data collected is as follows:\n",
    "\n",
    "Advertising Expenditure (in thousands): [10, 15, 12, 8, 14]\n",
    "\n",
    "Sales (in thousands): [25, 30, 28, 20, 26]\n",
    "\n",
    "Perform a multiple regression analysis to predict sales based on advertising expenditure."
   ]
  },
  {
   "cell_type": "markdown",
   "id": "be660204",
   "metadata": {},
   "source": [
    "ans20- "
   ]
  },
  {
   "cell_type": "code",
   "execution_count": 60,
   "id": "9011afc6",
   "metadata": {},
   "outputs": [
    {
     "name": "stdout",
     "output_type": "stream",
     "text": [
      "Intercept: 12.20121951219511\n",
      "Coefficient: 1.1524390243902443\n",
      "                            OLS Regression Results                            \n",
      "==============================================================================\n",
      "Dep. Variable:                      y   R-squared:                       0.767\n",
      "Model:                            OLS   Adj. R-squared:                  0.689\n",
      "Method:                 Least Squares   F-statistic:                     9.872\n",
      "Date:                Fri, 14 Jul 2023   Prob (F-statistic):             0.0516\n",
      "Time:                        21:40:56   Log-Likelihood:                -9.5288\n",
      "No. Observations:                   5   AIC:                             23.06\n",
      "Df Residuals:                       3   BIC:                             22.28\n",
      "Df Model:                           1                                         \n",
      "Covariance Type:            nonrobust                                         \n",
      "==============================================================================\n",
      "                 coef    std err          t      P>|t|      [0.025      0.975]\n",
      "------------------------------------------------------------------------------\n",
      "const         12.2012      4.429      2.755      0.070      -1.893      26.296\n",
      "x1             1.1524      0.367      3.142      0.052      -0.015       2.320\n",
      "==============================================================================\n",
      "Omnibus:                          nan   Durbin-Watson:                   1.136\n",
      "Prob(Omnibus):                    nan   Jarque-Bera (JB):                0.546\n",
      "Skew:                          -0.267   Prob(JB):                        0.761\n",
      "Kurtosis:                       1.471   Cond. No.                         57.3\n",
      "==============================================================================\n",
      "\n",
      "Notes:\n",
      "[1] Standard Errors assume that the covariance matrix of the errors is correctly specified.\n"
     ]
    },
    {
     "name": "stderr",
     "output_type": "stream",
     "text": [
      "C:\\Users\\Rajat\\anaconda3\\lib\\site-packages\\statsmodels\\stats\\stattools.py:74: ValueWarning: omni_normtest is not valid with less than 8 observations; 5 samples were given.\n",
      "  warn(\"omni_normtest is not valid with less than 8 observations; %i \"\n"
     ]
    }
   ],
   "source": [
    "import numpy as np\n",
    "import statsmodels.api as sm\n",
    "\n",
    "# Advertising expenditure (in thousands)\n",
    "X = np.array([10, 15, 12, 8, 14])\n",
    "\n",
    "# Sales (in thousands)\n",
    "y = np.array([25, 30, 28, 20, 26])\n",
    "\n",
    "# Add a constant term to X\n",
    "X = sm.add_constant(X)\n",
    "\n",
    "# Fit the multiple regression model\n",
    "model = sm.OLS(y, X)\n",
    "results = model.fit()\n",
    "\n",
    "# Print the regression coefficients\n",
    "print(\"Intercept:\", results.params[0])\n",
    "print(\"Coefficient:\", results.params[1])\n",
    "\n",
    "# Print the summary of the regression model\n",
    "print(results.summary())"
   ]
  }
 ],
 "metadata": {
  "kernelspec": {
   "display_name": "Python 3 (ipykernel)",
   "language": "python",
   "name": "python3"
  },
  "language_info": {
   "codemirror_mode": {
    "name": "ipython",
    "version": 3
   },
   "file_extension": ".py",
   "mimetype": "text/x-python",
   "name": "python",
   "nbconvert_exporter": "python",
   "pygments_lexer": "ipython3",
   "version": "3.9.7"
  }
 },
 "nbformat": 4,
 "nbformat_minor": 5
}

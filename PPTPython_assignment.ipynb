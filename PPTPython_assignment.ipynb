{
 "cells": [
  {
   "cell_type": "markdown",
   "id": "77d61817",
   "metadata": {},
   "source": [
    "que1- Write a Python program to reverse a string without using any built-in string reversal functions."
   ]
  },
  {
   "cell_type": "markdown",
   "id": "9e1ec70e",
   "metadata": {},
   "source": [
    "ans1- "
   ]
  },
  {
   "cell_type": "code",
   "execution_count": 2,
   "id": "3a7fbd0a",
   "metadata": {},
   "outputs": [
    {
     "name": "stdout",
     "output_type": "stream",
     "text": [
      "Enter a string: rajatassignment\n",
      "Reversed string: tnemngissatajar\n"
     ]
    }
   ],
   "source": [
    "def reverse_string(input_string):\n",
    "    reversed_string = ''\n",
    "    length = len(input_string)\n",
    "\n",
    "    for i in range(length -1, -1, -1):\n",
    "        reversed_string += input_string[i]\n",
    "\n",
    "    return reversed_string\n",
    "\n",
    "\n",
    "# Test the function\n",
    "string_to_reverse = input(\"Enter a string: \")\n",
    "reversed_string = reverse_string(string_to_reverse)\n",
    "print(\"Reversed string:\", reversed_string)"
   ]
  },
  {
   "cell_type": "markdown",
   "id": "9e3d8aee",
   "metadata": {},
   "source": [
    "que2- Implement a function to check if a given string is a palindrome."
   ]
  },
  {
   "cell_type": "markdown",
   "id": "6cf78e45",
   "metadata": {},
   "source": [
    "ans2-"
   ]
  },
  {
   "cell_type": "code",
   "execution_count": 11,
   "id": "a1cb3a8b",
   "metadata": {},
   "outputs": [
    {
     "name": "stdout",
     "output_type": "stream",
     "text": [
      "The string is Palindrome\n",
      "The string is not Palindrome\n"
     ]
    }
   ],
   "source": [
    "def is_palindrome(string):\n",
    "    # Remove any non-alphanumeric characters and convert to lowercase\n",
    "    cleaned_string = ''.join(char.lower() for char in string if char.isalnum())\n",
    "    \n",
    "    # Check if the cleaned string is equal to its reverse\n",
    "    if cleaned_string == cleaned_string[::-1]:\n",
    "        print(\"The string is Palindrome\")   \n",
    "    else:\n",
    "        print(\"The string is not Palindrome\")\n",
    "\n",
    "#Example1-\n",
    "input_string1 = \"A man, a plan, a canal, Panama!\"\n",
    "is_palindrome(input_string1)\n",
    "\n",
    "#Example2-\n",
    "input_string2 = \"Hello, world!\"\n",
    "is_palindrome(input_string2)"
   ]
  },
  {
   "cell_type": "markdown",
   "id": "5938180e",
   "metadata": {},
   "source": [
    "que3- Write a program to find the largest element in a given list."
   ]
  },
  {
   "cell_type": "markdown",
   "id": "0f9e18a0",
   "metadata": {},
   "source": [
    "ans3- "
   ]
  },
  {
   "cell_type": "code",
   "execution_count": 21,
   "id": "f6be1309",
   "metadata": {},
   "outputs": [
    {
     "name": "stdout",
     "output_type": "stream",
     "text": [
      "15\n"
     ]
    }
   ],
   "source": [
    "def find_largest_element(lst):\n",
    "    if not lst:  # Check if the list is empty\n",
    "        return None\n",
    "    \n",
    "    largest = lst[0]  # Assume the first element is the largest\n",
    "    \n",
    "    for element in lst:\n",
    "        if element > largest:\n",
    "            largest = element\n",
    "    \n",
    "    return largest\n",
    "\n",
    "#Example-\n",
    "my_list = [4, 2, 15, 12, 1]\n",
    "largest_element = find_largest_element(my_list)\n",
    "print(largest_element)"
   ]
  },
  {
   "cell_type": "markdown",
   "id": "3469627b",
   "metadata": {},
   "source": [
    "que4- Implement a function to count the occurrence of each element in a list."
   ]
  },
  {
   "cell_type": "markdown",
   "id": "038edd55",
   "metadata": {},
   "source": [
    "ans4- "
   ]
  },
  {
   "cell_type": "code",
   "execution_count": 33,
   "id": "192b685a",
   "metadata": {},
   "outputs": [
    {
     "name": "stdout",
     "output_type": "stream",
     "text": [
      "{1: 3, 2: 3, 3: 1, 4: 2, 5: 1}\n"
     ]
    }
   ],
   "source": [
    "def count_occurrences(lst):\n",
    "    occurrence_count = {}\n",
    "    \n",
    "    for element in lst:\n",
    "        if element in occurrence_count:\n",
    "            occurrence_count[element] += 1\n",
    "        else:\n",
    "            occurrence_count[element] = 1\n",
    "    \n",
    "    return occurrence_count\n",
    "\n",
    "#Example-\n",
    "my_list = [1, 2, 3, 2, 1, 1, 4, 5, 4, 2]\n",
    "occurrence_count = count_occurrences(my_list)\n",
    "print(occurrence_count)"
   ]
  },
  {
   "cell_type": "markdown",
   "id": "9ee563f0",
   "metadata": {},
   "source": [
    "que5- Write a Python program to find the second largest number in a list."
   ]
  },
  {
   "cell_type": "markdown",
   "id": "f3de99cb",
   "metadata": {},
   "source": [
    "ans5- "
   ]
  },
  {
   "cell_type": "code",
   "execution_count": 37,
   "id": "31820f1c",
   "metadata": {},
   "outputs": [
    {
     "name": "stdout",
     "output_type": "stream",
     "text": [
      "8\n"
     ]
    }
   ],
   "source": [
    "def find_second_largest(lst):\n",
    "    if len(lst) < 2:\n",
    "        return None\n",
    "    \n",
    "    sorted_lst = sorted(lst)\n",
    "    return sorted_lst[-2]\n",
    "\n",
    "#Example-\n",
    "my_list = [5, 9, 2, 6, 1, 8, 3]\n",
    "second_largest = find_second_largest(my_list)\n",
    "print(second_largest)"
   ]
  },
  {
   "cell_type": "markdown",
   "id": "f2ee2b09",
   "metadata": {},
   "source": [
    "que6- Implement a function to remove duplicate elements from a list."
   ]
  },
  {
   "cell_type": "markdown",
   "id": "b72979c0",
   "metadata": {},
   "source": [
    "ans6-"
   ]
  },
  {
   "cell_type": "code",
   "execution_count": 43,
   "id": "31954e4e",
   "metadata": {},
   "outputs": [
    {
     "name": "stdout",
     "output_type": "stream",
     "text": [
      "[2, 5, 7, 8, 1]\n"
     ]
    }
   ],
   "source": [
    "def remove_duplicates(lst):\n",
    "    seen = set()\n",
    "    result = []\n",
    "    \n",
    "    for element in lst:\n",
    "        if element not in seen:\n",
    "            seen.add(element)\n",
    "            result.append(element)\n",
    "    \n",
    "    return result\n",
    "\n",
    "#Example-\n",
    "my_list = [2, 5, 2, 7, 8, 5, 1, 8]\n",
    "result_list = remove_duplicates(my_list)\n",
    "print(result_list)"
   ]
  },
  {
   "cell_type": "markdown",
   "id": "d82ddad5",
   "metadata": {},
   "source": [
    "que7- Write a program to calculate the factorial of a given number."
   ]
  },
  {
   "cell_type": "markdown",
   "id": "faf26f9d",
   "metadata": {},
   "source": [
    "ans7-"
   ]
  },
  {
   "cell_type": "code",
   "execution_count": 47,
   "id": "65e3487d",
   "metadata": {},
   "outputs": [
    {
     "name": "stdout",
     "output_type": "stream",
     "text": [
      "120\n"
     ]
    }
   ],
   "source": [
    "def factorial(n):\n",
    "    if n < 0:\n",
    "        return None\n",
    "    elif n == 0:\n",
    "        return 1\n",
    "    else:\n",
    "        result = 1\n",
    "        for i in range(1, n + 1):\n",
    "            result *= i\n",
    "        return result\n",
    "\n",
    "#Example-\n",
    "number = 5\n",
    "fact = factorial(number)\n",
    "print(fact)"
   ]
  },
  {
   "cell_type": "markdown",
   "id": "4d8b325c",
   "metadata": {},
   "source": [
    "que8- Implement a function to check if a given number is prime."
   ]
  },
  {
   "cell_type": "markdown",
   "id": "43b425ac",
   "metadata": {},
   "source": [
    "ans8- "
   ]
  },
  {
   "cell_type": "code",
   "execution_count": 53,
   "id": "ccf3ccf7",
   "metadata": {},
   "outputs": [
    {
     "name": "stdout",
     "output_type": "stream",
     "text": [
      "True\n"
     ]
    }
   ],
   "source": [
    "def is_prime(n):\n",
    "    if n < 2:\n",
    "        return False\n",
    "    \n",
    "    for i in range(2, int(n**0.5) + 1):\n",
    "        if n % i == 0:\n",
    "            return False\n",
    "    \n",
    "    return True\n",
    "\n",
    "#Example-\n",
    "number = 17\n",
    "is_prime_number = is_prime(number)\n",
    "print(is_prime_number)"
   ]
  },
  {
   "cell_type": "markdown",
   "id": "3cb81c00",
   "metadata": {},
   "source": [
    "que9- Write a Python program to sort a list of integers in ascending order."
   ]
  },
  {
   "cell_type": "markdown",
   "id": "d03fbf00",
   "metadata": {},
   "source": [
    "ans9-"
   ]
  },
  {
   "cell_type": "code",
   "execution_count": 56,
   "id": "2e07ba16",
   "metadata": {},
   "outputs": [
    {
     "name": "stdout",
     "output_type": "stream",
     "text": [
      "[1, 2, 3, 5, 8, 9]\n"
     ]
    }
   ],
   "source": [
    "def sort_list(lst):\n",
    "    lst.sort()\n",
    "    return lst\n",
    "\n",
    "#Example-\n",
    "my_list = [5, 2, 8, 1, 9, 3]\n",
    "sorted_list = sort_list(my_list)\n",
    "print(sorted_list)"
   ]
  },
  {
   "cell_type": "markdown",
   "id": "28f972f8",
   "metadata": {},
   "source": [
    "que10- Implement a function to find the sum of all numbers in a list."
   ]
  },
  {
   "cell_type": "markdown",
   "id": "ef865986",
   "metadata": {},
   "source": [
    "ans10-"
   ]
  },
  {
   "cell_type": "code",
   "execution_count": 60,
   "id": "aae565cb",
   "metadata": {},
   "outputs": [
    {
     "name": "stdout",
     "output_type": "stream",
     "text": [
      "28\n"
     ]
    }
   ],
   "source": [
    "def sum_of_numbers(lst):\n",
    "    total = 0\n",
    "    for num in lst:\n",
    "        total += num\n",
    "    return total\n",
    "\n",
    "#Example-\n",
    "my_list = [5, 2, 8, 1, 9, 3]\n",
    "sum_of_all = sum_of_numbers(my_list)\n",
    "print(sum_of_all)"
   ]
  },
  {
   "cell_type": "markdown",
   "id": "a91ec905",
   "metadata": {},
   "source": [
    "que11- Write a program to find the common elements between two lists."
   ]
  },
  {
   "cell_type": "markdown",
   "id": "6ba1a747",
   "metadata": {},
   "source": [
    "ans11- "
   ]
  },
  {
   "cell_type": "code",
   "execution_count": 66,
   "id": "68addca5",
   "metadata": {},
   "outputs": [
    {
     "name": "stdout",
     "output_type": "stream",
     "text": [
      "[2, 1]\n"
     ]
    }
   ],
   "source": [
    "def common_elements(list1, list2):\n",
    "    common_element = []\n",
    "    \n",
    "    for element in list1:\n",
    "        if element in list2:\n",
    "            common_element.append(element)\n",
    "    \n",
    "    return common_element\n",
    "\n",
    "#Example-\n",
    "list1 = [2, 5, 8, 3, 1]\n",
    "list2 = [7, 1, 4, 2, 9]\n",
    "common_element = common_elements(list1, list2)\n",
    "print(common_element)"
   ]
  },
  {
   "cell_type": "markdown",
   "id": "8d24daf6",
   "metadata": {},
   "source": [
    "que12- Implement a function to check if a given string is an anagram of another string."
   ]
  },
  {
   "cell_type": "markdown",
   "id": "c49ab36c",
   "metadata": {},
   "source": [
    "ans12- "
   ]
  },
  {
   "cell_type": "code",
   "execution_count": 73,
   "id": "d0f9a991",
   "metadata": {},
   "outputs": [
    {
     "name": "stdout",
     "output_type": "stream",
     "text": [
      "True\n"
     ]
    }
   ],
   "source": [
    "def is_anagram(str1, str2):\n",
    "    # Convert both strings to lowercase and remove spaces\n",
    "    str1 = str1.lower().replace(\" \", \"\")\n",
    "    str2 = str2.lower().replace(\" \", \"\")\n",
    "    \n",
    "    # Sort the characters of both strings\n",
    "    sorted_str1 = sorted(str1)\n",
    "    sorted_str2 = sorted(str2)\n",
    "    \n",
    "    # Compare the sorted strings\n",
    "    if sorted_str1 == sorted_str2:\n",
    "        return True\n",
    "    else:\n",
    "        return False\n",
    "\n",
    "#Example-\n",
    "string1 = \"listen\"\n",
    "string2 = \"silent\"\n",
    "is_anagram_result = is_anagram(string1, string2)\n",
    "print(is_anagram_result)"
   ]
  },
  {
   "cell_type": "markdown",
   "id": "3deb7929",
   "metadata": {},
   "source": [
    "que13- Write a Python program to generate all permutations of a given string."
   ]
  },
  {
   "cell_type": "markdown",
   "id": "b90efe19",
   "metadata": {},
   "source": [
    "ans13- "
   ]
  },
  {
   "cell_type": "code",
   "execution_count": 80,
   "id": "640ffa03",
   "metadata": {},
   "outputs": [
    {
     "name": "stdout",
     "output_type": "stream",
     "text": [
      "['abcd', 'abdc', 'acbd', 'acdb', 'adbc', 'adcb', 'bacd', 'badc', 'bcad', 'bcda', 'bdac', 'bdca', 'cabd', 'cadb', 'cbad', 'cbda', 'cdab', 'cdba', 'dabc', 'dacb', 'dbac', 'dbca', 'dcab', 'dcba']\n"
     ]
    }
   ],
   "source": [
    "from itertools import permutations\n",
    "\n",
    "def generate_permutations(string):\n",
    "    # Use permutations function from itertools\n",
    "    perm_list = list(permutations(string))\n",
    "    \n",
    "    # Convert tuples to strings\n",
    "    perm_strings = [''.join(perm) for perm in perm_list]\n",
    "    \n",
    "    return perm_strings\n",
    "\n",
    "#Example-\n",
    "string = \"abcd\"\n",
    "permutations_list = generate_permutations(string)\n",
    "print(permutations_list)"
   ]
  },
  {
   "cell_type": "markdown",
   "id": "6c0013ae",
   "metadata": {},
   "source": [
    "que14- Implement a function to calculate the Fibonacci sequence up to a given number of terms."
   ]
  },
  {
   "cell_type": "markdown",
   "id": "9987b143",
   "metadata": {},
   "source": [
    "ans14- "
   ]
  },
  {
   "cell_type": "code",
   "execution_count": 86,
   "id": "122bea2a",
   "metadata": {},
   "outputs": [
    {
     "name": "stdout",
     "output_type": "stream",
     "text": [
      "[0, 1, 1, 2, 3, 5, 8, 13, 21, 34]\n"
     ]
    }
   ],
   "source": [
    "def fibonacci_sequence(n):\n",
    "    sequence = []\n",
    "    \n",
    "    # Check if n is less than or equal to 0\n",
    "    if n <= 0:\n",
    "        return sequence\n",
    "    \n",
    "    # Calculate Fibonacci sequence\n",
    "    a, b = 0, 1\n",
    "    sequence.append(a)\n",
    "    \n",
    "    while len(sequence) < n:\n",
    "        sequence.append(b)\n",
    "        a, b = b, a + b\n",
    "    \n",
    "    return sequence\n",
    "\n",
    "#Example-\n",
    "n = 10\n",
    "fib_sequence = fibonacci_sequence(n)\n",
    "print(fib_sequence)"
   ]
  },
  {
   "cell_type": "markdown",
   "id": "48c237db",
   "metadata": {},
   "source": [
    "que15- Write a program to find the median of a list of numbers."
   ]
  },
  {
   "cell_type": "markdown",
   "id": "b834fc79",
   "metadata": {},
   "source": [
    "ans15- "
   ]
  },
  {
   "cell_type": "code",
   "execution_count": 90,
   "id": "3435e537",
   "metadata": {},
   "outputs": [
    {
     "name": "stdout",
     "output_type": "stream",
     "text": [
      "4.0\n"
     ]
    }
   ],
   "source": [
    "import statistics\n",
    "\n",
    "def find_median(numbers):\n",
    "    median = statistics.median(numbers)\n",
    "    return median\n",
    "\n",
    "#Example-\n",
    "numbers = [5, 2, 8, 1, 9, 3]\n",
    "median = find_median(numbers)\n",
    "print(median)"
   ]
  },
  {
   "cell_type": "markdown",
   "id": "9b1adc15",
   "metadata": {},
   "source": [
    "que16- Implement a function to check if a given list is sorted in non-decreasing order."
   ]
  },
  {
   "cell_type": "markdown",
   "id": "24ec1dcc",
   "metadata": {},
   "source": [
    "ans16- "
   ]
  },
  {
   "cell_type": "code",
   "execution_count": 94,
   "id": "096fc63e",
   "metadata": {},
   "outputs": [
    {
     "name": "stdout",
     "output_type": "stream",
     "text": [
      "True\n",
      "False\n"
     ]
    }
   ],
   "source": [
    "def is_sorted(lst):\n",
    "    for i in range(1, len(lst)):\n",
    "        if lst[i] < lst[i-1]:\n",
    "            return False\n",
    "    return True\n",
    "\n",
    "#Example1-\n",
    "list1 = [1, 2, 3, 4, 5]\n",
    "sorted_result1 = is_sorted(list1)\n",
    "print(sorted_result1)\n",
    "\n",
    "#Example2-\n",
    "list2 = [1, 3, 2, 4, 5]\n",
    "sorted_result2 = is_sorted(list2)\n",
    "print(sorted_result2)"
   ]
  },
  {
   "cell_type": "markdown",
   "id": "9f90e7a5",
   "metadata": {},
   "source": [
    "que17- Write a Python program to find the intersection of two lists."
   ]
  },
  {
   "cell_type": "markdown",
   "id": "c1fbde01",
   "metadata": {},
   "source": [
    "ans17- "
   ]
  },
  {
   "cell_type": "code",
   "execution_count": 98,
   "id": "dc5ba1c7",
   "metadata": {},
   "outputs": [
    {
     "name": "stdout",
     "output_type": "stream",
     "text": [
      "[4, 5]\n"
     ]
    }
   ],
   "source": [
    "def find_intersection(list1, list2):\n",
    "    intersection = list(set(list1) & set(list2))\n",
    "    return intersection\n",
    "\n",
    "#Example-\n",
    "list1 = [1, 2, 3, 4, 5]\n",
    "list2 = [4, 5, 6, 7, 8]\n",
    "intersection_result = find_intersection(list1, list2)\n",
    "print(intersection_result)"
   ]
  },
  {
   "cell_type": "markdown",
   "id": "81c8d520",
   "metadata": {},
   "source": [
    "que19- Write a program to remove all vowels from a given string."
   ]
  },
  {
   "cell_type": "markdown",
   "id": "695ed666",
   "metadata": {},
   "source": [
    "ans19-"
   ]
  },
  {
   "cell_type": "code",
   "execution_count": 103,
   "id": "82797137",
   "metadata": {},
   "outputs": [
    {
     "name": "stdout",
     "output_type": "stream",
     "text": [
      "Hll, Wrld!\n"
     ]
    }
   ],
   "source": [
    "def remove_vowels(string):\n",
    "    vowels = \"aeiouAEIOU\"\n",
    "    result = \"\"\n",
    "\n",
    "    for char in string:\n",
    "        if char not in vowels:\n",
    "            result += char\n",
    "\n",
    "    return result\n",
    "\n",
    "#Example-\n",
    "input_string = \"Hello, World!\"\n",
    "output_string = remove_vowels(input_string)\n",
    "print(output_string)"
   ]
  },
  {
   "cell_type": "markdown",
   "id": "e9ef2e5d",
   "metadata": {},
   "source": [
    "que20- Implement a function to reverse the order of words in a given sentence."
   ]
  },
  {
   "cell_type": "markdown",
   "id": "32761ee1",
   "metadata": {},
   "source": [
    "ans20- "
   ]
  },
  {
   "cell_type": "code",
   "execution_count": 104,
   "id": "76cfd565",
   "metadata": {},
   "outputs": [
    {
     "name": "stdout",
     "output_type": "stream",
     "text": [
      "ineuron. to Welcome learners! Hello,\n"
     ]
    }
   ],
   "source": [
    "def reverse_sentence(sentence):\n",
    "    words = sentence.split()  # Split the sentence into a list of words\n",
    "    reversed_words = words[::-1]  # Reverse the order of words\n",
    "    reversed_sentence = \" \".join(reversed_words)  # Join the reversed words into a sentence\n",
    "    return reversed_sentence\n",
    "\n",
    "#Example-\n",
    "input_sentence = \"Hello, learners! Welcome to ineuron.\"\n",
    "reversed_sentence = reverse_sentence(input_sentence)\n",
    "print(reversed_sentence)"
   ]
  },
  {
   "cell_type": "markdown",
   "id": "baaec6b7",
   "metadata": {},
   "source": [
    "que21- Write a Python program to check if two strings are anagrams of each other."
   ]
  },
  {
   "cell_type": "markdown",
   "id": "7a93eb86",
   "metadata": {},
   "source": [
    "ans21- "
   ]
  },
  {
   "cell_type": "code",
   "execution_count": 106,
   "id": "25bc01d2",
   "metadata": {},
   "outputs": [
    {
     "name": "stdout",
     "output_type": "stream",
     "text": [
      "True\n"
     ]
    }
   ],
   "source": [
    "def is_anagram(str1, str2):\n",
    "    # Convert both strings to lowercase and remove spaces\n",
    "    str1 = str1.lower().replace(\" \", \"\")\n",
    "    str2 = str2.lower().replace(\" \", \"\")\n",
    "    \n",
    "    # Sort the characters of both strings\n",
    "    sorted_str1 = sorted(str1)\n",
    "    sorted_str2 = sorted(str2)\n",
    "    \n",
    "    # Compare the sorted strings\n",
    "    if sorted_str1 == sorted_str2:\n",
    "        return True\n",
    "    else:\n",
    "        return False\n",
    "\n",
    "#Example-\n",
    "string1 = \"listen\"\n",
    "string2 = \"silent\"\n",
    "is_anagram_result = is_anagram(string1, string2)\n",
    "print(is_anagram_result)"
   ]
  },
  {
   "cell_type": "markdown",
   "id": "b6e10c20",
   "metadata": {},
   "source": [
    "que22- Implement a function to find the first non-repeating character in a string."
   ]
  },
  {
   "cell_type": "markdown",
   "id": "5f2c85a0",
   "metadata": {},
   "source": [
    "ans22- "
   ]
  },
  {
   "cell_type": "code",
   "execution_count": 112,
   "id": "1d6058c5",
   "metadata": {},
   "outputs": [
    {
     "name": "stdout",
     "output_type": "stream",
     "text": [
      "c\n"
     ]
    }
   ],
   "source": [
    "from collections import Counter\n",
    "\n",
    "def find_first_non_repeating_char(string):\n",
    "    char_count = Counter(string)\n",
    "\n",
    "    for char in string:\n",
    "        if char_count[char] == 1:\n",
    "            return char\n",
    "\n",
    "    return None\n",
    "\n",
    "#Example-\n",
    "input_string = \"abacabad\"\n",
    "first_non_repeating_char = find_first_non_repeating_char(input_string)\n",
    "print(first_non_repeating_char)"
   ]
  },
  {
   "cell_type": "markdown",
   "id": "dd5f19f7",
   "metadata": {},
   "source": [
    "que23- Write a program to find the prime factors of a given number."
   ]
  },
  {
   "cell_type": "markdown",
   "id": "9ef7a375",
   "metadata": {},
   "source": [
    "ans23- "
   ]
  },
  {
   "cell_type": "code",
   "execution_count": 119,
   "id": "27ebc4d1",
   "metadata": {},
   "outputs": [
    {
     "name": "stdout",
     "output_type": "stream",
     "text": [
      "[2, 2, 2, 2, 3]\n"
     ]
    }
   ],
   "source": [
    "def find_prime_factors(n):\n",
    "    prime_factors = []\n",
    "    divisor = 2\n",
    "\n",
    "    while divisor <= n:\n",
    "        if n % divisor == 0:\n",
    "            prime_factors.append(divisor)\n",
    "            n = n // divisor\n",
    "        else:\n",
    "            divisor += 1\n",
    "\n",
    "    return prime_factors\n",
    "\n",
    "#Example-\n",
    "number = 48\n",
    "prime_factors = find_prime_factors(number)\n",
    "print(prime_factors)"
   ]
  },
  {
   "cell_type": "markdown",
   "id": "773b0f90",
   "metadata": {},
   "source": [
    "que24- Implement a function to check if a given number is a power of two."
   ]
  },
  {
   "cell_type": "markdown",
   "id": "df19cc24",
   "metadata": {},
   "source": [
    "ans24- "
   ]
  },
  {
   "cell_type": "code",
   "execution_count": 122,
   "id": "20e99803",
   "metadata": {},
   "outputs": [
    {
     "name": "stdout",
     "output_type": "stream",
     "text": [
      "True\n",
      "False\n"
     ]
    }
   ],
   "source": [
    "def is_power_of_two(n):\n",
    "    if n <= 0:\n",
    "        return False\n",
    "\n",
    "    while n % 2 == 0:\n",
    "        n //= 2\n",
    "\n",
    "    return n == 1\n",
    "\n",
    "#Example1-\n",
    "number = 16\n",
    "is_power = is_power_of_two(number)\n",
    "print(is_power)\n",
    "\n",
    "#Example2-\n",
    "number = 15\n",
    "is_power = is_power_of_two(number)\n",
    "print(is_power)"
   ]
  },
  {
   "cell_type": "markdown",
   "id": "e293728e",
   "metadata": {},
   "source": [
    "que25- Write a Python program to merge two sorted lists into a single sorted list."
   ]
  },
  {
   "cell_type": "markdown",
   "id": "e8834db1",
   "metadata": {},
   "source": [
    "ans25- "
   ]
  },
  {
   "cell_type": "code",
   "execution_count": 125,
   "id": "6fc6596a",
   "metadata": {},
   "outputs": [
    {
     "name": "stdout",
     "output_type": "stream",
     "text": [
      "[1, 2, 3, 4, 5, 6, 7, 8]\n"
     ]
    }
   ],
   "source": [
    "import heapq\n",
    "\n",
    "def merge_sorted_lists(list1, list2):\n",
    "    merged_list = list(heapq.merge(list1, list2))\n",
    "    return merged_list\n",
    "\n",
    "#Example-\n",
    "list1 = [1, 3, 5, 7]\n",
    "list2 = [2, 4, 6, 8]\n",
    "merged_list = merge_sorted_lists(list1, list2)\n",
    "print(merged_list)"
   ]
  },
  {
   "cell_type": "markdown",
   "id": "1a9f420b",
   "metadata": {},
   "source": [
    "que26- Implement a function to find the mode of a list of numbers."
   ]
  },
  {
   "cell_type": "markdown",
   "id": "db1b4347",
   "metadata": {},
   "source": [
    "ans26-"
   ]
  },
  {
   "cell_type": "code",
   "execution_count": 135,
   "id": "761bed2f",
   "metadata": {},
   "outputs": [
    {
     "name": "stdout",
     "output_type": "stream",
     "text": [
      "[3]\n"
     ]
    }
   ],
   "source": [
    "from collections import Counter\n",
    "\n",
    "def find_mode(numbers):\n",
    "    count_dict = Counter(numbers)\n",
    "    max_count = max(count_dict.values())\n",
    "    mode = [num for num, count in count_dict.items() if count == max_count]\n",
    "    return mode\n",
    "\n",
    "#Example-\n",
    "numbers = [1, 2, 3, 2, 4, 3, 5, 3]\n",
    "mode_values = find_mode(numbers)\n",
    "print(mode_values)"
   ]
  },
  {
   "cell_type": "markdown",
   "id": "f7d11080",
   "metadata": {},
   "source": [
    "que27- Write a program to find the greatest common divisor (GCD) of two numbers."
   ]
  },
  {
   "cell_type": "markdown",
   "id": "d696ccdd",
   "metadata": {},
   "source": [
    "ans27- "
   ]
  },
  {
   "cell_type": "code",
   "execution_count": 139,
   "id": "1a77f571",
   "metadata": {},
   "outputs": [
    {
     "name": "stdout",
     "output_type": "stream",
     "text": [
      "12\n"
     ]
    }
   ],
   "source": [
    "def gcd(a, b):\n",
    "    while b != 0:\n",
    "        a, b = b, a % b\n",
    "    return a\n",
    "\n",
    "#Example-\n",
    "num1 = 36\n",
    "num2 = 48\n",
    "result = gcd(num1, num2)\n",
    "print(result)"
   ]
  },
  {
   "cell_type": "markdown",
   "id": "278f4450",
   "metadata": {},
   "source": [
    "que28- Implement a function to calculate the square root of a given number."
   ]
  },
  {
   "cell_type": "markdown",
   "id": "a5375f9d",
   "metadata": {},
   "source": [
    "ans28- "
   ]
  },
  {
   "cell_type": "code",
   "execution_count": 145,
   "id": "3ca97541",
   "metadata": {},
   "outputs": [
    {
     "data": {
      "text/plain": [
       "3.872983346207417"
      ]
     },
     "execution_count": 145,
     "metadata": {},
     "output_type": "execute_result"
    }
   ],
   "source": [
    "def square_root(n):\n",
    "    if n < 0:\n",
    "        raise ValueError(\"Square root is not defined for negative numbers.\")\n",
    "\n",
    "    if n == 0:\n",
    "        return 0\n",
    "    \n",
    "    else:\n",
    "        x = n**(1/2)\n",
    "\n",
    "    return x\n",
    "\n",
    "#Example-\n",
    "n=15\n",
    "square_root(n)"
   ]
  },
  {
   "cell_type": "markdown",
   "id": "9aad53a5",
   "metadata": {},
   "source": [
    "que29- Write a Python program to check if a given string is a valid palindrome ignoring non-alphanumeric characters."
   ]
  },
  {
   "cell_type": "markdown",
   "id": "86f0ded6",
   "metadata": {},
   "source": [
    "ans29- "
   ]
  },
  {
   "cell_type": "code",
   "execution_count": 151,
   "id": "acfdd7ff",
   "metadata": {},
   "outputs": [
    {
     "name": "stdout",
     "output_type": "stream",
     "text": [
      "True\n"
     ]
    }
   ],
   "source": [
    "import re\n",
    "\n",
    "def is_valid_palindrome(s):\n",
    "    # Remove non-alphanumeric characters and convert to lowercase\n",
    "    s = re.sub(r'[^a-zA-Z0-9]', '', s.lower())\n",
    "\n",
    "    # Check if the modified string is a palindrome\n",
    "    return s == s[::-1]\n",
    "\n",
    "#Example-\n",
    "string = \"A man, a plan, a canal: Panama!\"\n",
    "result = is_valid_palindrome(string)\n",
    "print(result)"
   ]
  },
  {
   "cell_type": "markdown",
   "id": "9b42b517",
   "metadata": {},
   "source": [
    "que30- Implement a function to find the minimum element in a rotated sorted list."
   ]
  },
  {
   "cell_type": "markdown",
   "id": "6c80d126",
   "metadata": {},
   "source": [
    "ans30- "
   ]
  },
  {
   "cell_type": "code",
   "execution_count": 154,
   "id": "c820820b",
   "metadata": {},
   "outputs": [
    {
     "name": "stdout",
     "output_type": "stream",
     "text": [
      "-1\n"
     ]
    }
   ],
   "source": [
    "def find_minimum(n):\n",
    "    minimum = n[0]\n",
    "    for i in range(1, len(n)):\n",
    "        if n[i] < minimum:\n",
    "            minimum = n[i]\n",
    "    return minimum\n",
    "\n",
    "#Example-\n",
    "numbers = [4, 5, 6, 7, -1, 1, 2]\n",
    "minimum = find_minimum(numbers)\n",
    "print(minimum)"
   ]
  },
  {
   "cell_type": "markdown",
   "id": "8cadee7e",
   "metadata": {},
   "source": [
    "que31- Write a program to find the sum of all even numbers in a list."
   ]
  },
  {
   "cell_type": "markdown",
   "id": "b369a866",
   "metadata": {},
   "source": [
    "ans31- "
   ]
  },
  {
   "cell_type": "code",
   "execution_count": 159,
   "id": "59e0dc04",
   "metadata": {},
   "outputs": [
    {
     "name": "stdout",
     "output_type": "stream",
     "text": [
      "30\n"
     ]
    }
   ],
   "source": [
    "def sum_even_numbers(numbers):\n",
    "    sum_even = 0\n",
    "    for num in numbers:\n",
    "        if num % 2 == 0:\n",
    "            sum_even += num\n",
    "    return sum_even\n",
    "\n",
    "#Example-\n",
    "numbers = [1, 2, 3, 4, 5, 6, 7, 8, 9, 10]\n",
    "sum_even = sum_even_numbers(numbers)\n",
    "print(sum_even)"
   ]
  },
  {
   "cell_type": "markdown",
   "id": "2e5c1da2",
   "metadata": {},
   "source": [
    "que32- Implement a function to calculate the power of a number using recursion."
   ]
  },
  {
   "cell_type": "markdown",
   "id": "4910847d",
   "metadata": {},
   "source": [
    "ans32- "
   ]
  },
  {
   "cell_type": "code",
   "execution_count": 168,
   "id": "ce11a465",
   "metadata": {},
   "outputs": [
    {
     "name": "stdout",
     "output_type": "stream",
     "text": [
      "32\n"
     ]
    }
   ],
   "source": [
    "def power(base, exponent):\n",
    "    if exponent == 0:\n",
    "        return 1\n",
    "    elif exponent < 0:\n",
    "        return 1 / power(base, -exponent)\n",
    "    else:\n",
    "        return base * power(base, exponent - 1)\n",
    "\n",
    "#Example-\n",
    "base = 2\n",
    "exponent = 5\n",
    "result = power(base, exponent)\n",
    "print(result)"
   ]
  },
  {
   "cell_type": "markdown",
   "id": "5a5ab674",
   "metadata": {},
   "source": [
    "que33- Write a Python program to remove duplicates from a list while preserving the order."
   ]
  },
  {
   "cell_type": "markdown",
   "id": "2585a45d",
   "metadata": {},
   "source": [
    "ans33- "
   ]
  },
  {
   "cell_type": "code",
   "execution_count": 174,
   "id": "9edd0596",
   "metadata": {},
   "outputs": [
    {
     "name": "stdout",
     "output_type": "stream",
     "text": [
      "[3, 2, 1, 4, 5]\n"
     ]
    }
   ],
   "source": [
    "def remove_duplicates(lst):\n",
    "    seen = set()\n",
    "    result = []\n",
    "    for item in lst:\n",
    "        if item not in seen:\n",
    "            seen.add(item)\n",
    "            result.append(item)\n",
    "    return result\n",
    "\n",
    "#Example-\n",
    "numbers = [3, 2, 1, 2, 4, 3, 1, 5, 5]\n",
    "result = remove_duplicates(numbers)\n",
    "print(result)"
   ]
  },
  {
   "cell_type": "markdown",
   "id": "d8c1bcfd",
   "metadata": {},
   "source": [
    "que35- Write a program to check if a given number is a perfect square."
   ]
  },
  {
   "cell_type": "markdown",
   "id": "13b2b5e7",
   "metadata": {},
   "source": [
    "ans35- "
   ]
  },
  {
   "cell_type": "code",
   "execution_count": 179,
   "id": "3024a6d9",
   "metadata": {},
   "outputs": [
    {
     "name": "stdout",
     "output_type": "stream",
     "text": [
      "True\n"
     ]
    }
   ],
   "source": [
    "def is_perfect_square(n):\n",
    "    if n < 0:\n",
    "        return False\n",
    "    \n",
    "    sqrt = int(n ** 0.5)\n",
    "    return sqrt * sqrt == n\n",
    "\n",
    "#Example-\n",
    "number = 25\n",
    "result = is_perfect_square(number)\n",
    "print(result)"
   ]
  },
  {
   "cell_type": "markdown",
   "id": "bfc4187e",
   "metadata": {},
   "source": [
    "que36- Implement a function to calculate the product of all elements in a list."
   ]
  },
  {
   "cell_type": "markdown",
   "id": "0dfa0055",
   "metadata": {},
   "source": [
    "ans36- "
   ]
  },
  {
   "cell_type": "code",
   "execution_count": 184,
   "id": "8f8f00b3",
   "metadata": {},
   "outputs": [
    {
     "name": "stdout",
     "output_type": "stream",
     "text": [
      "120\n"
     ]
    }
   ],
   "source": [
    "def calculate_product(lst):\n",
    "    product = 1\n",
    "    for num in lst:\n",
    "        product *= num\n",
    "    return product\n",
    "\n",
    "#Example-\n",
    "numbers = [2, 3, 4, 5]\n",
    "result = calculate_product(numbers)\n",
    "print(result)"
   ]
  },
  {
   "cell_type": "markdown",
   "id": "e5d9a117",
   "metadata": {},
   "source": [
    "que37- Write a Python program to reverse the order of words in a sentence while preserving the word order."
   ]
  },
  {
   "cell_type": "markdown",
   "id": "0806a911",
   "metadata": {},
   "source": [
    "ans37- "
   ]
  },
  {
   "cell_type": "code",
   "execution_count": 188,
   "id": "ed20c580",
   "metadata": {},
   "outputs": [
    {
     "name": "stdout",
     "output_type": "stream",
     "text": [
      ",olleH !srenrael emocleW ot .norueni\n"
     ]
    }
   ],
   "source": [
    "def reverse_words(sentence):\n",
    "    words = sentence.split()\n",
    "    reversed_words = [word[::-1] for word in words]\n",
    "    reversed_sentence = ' '.join(reversed_words)\n",
    "    return reversed_sentence\n",
    "\n",
    "#Example-\n",
    "sentence = \"Hello, learners! Welcome to ineuron.\"\n",
    "reversed_sentence = reverse_words(sentence)\n",
    "print(reversed_sentence)"
   ]
  },
  {
   "cell_type": "markdown",
   "id": "7f0deda0",
   "metadata": {},
   "source": [
    "que38- Implement a function to find the missing number in a given list of consecutive numbers."
   ]
  },
  {
   "cell_type": "markdown",
   "id": "1fea2051",
   "metadata": {},
   "source": [
    "ans38- "
   ]
  },
  {
   "cell_type": "code",
   "execution_count": 192,
   "id": "54005f0a",
   "metadata": {},
   "outputs": [
    {
     "name": "stdout",
     "output_type": "stream",
     "text": [
      "3\n"
     ]
    }
   ],
   "source": [
    "def find_missing_number(numbers):\n",
    "    n = len(numbers) + 1\n",
    "    total_sum = (n * (n + 1)) // 2\n",
    "    actual_sum = sum(numbers)\n",
    "    missing_number = total_sum - actual_sum\n",
    "    return missing_number\n",
    "\n",
    "#Example-\n",
    "numbers = [1, 2, 4, 5, 6]\n",
    "missing_number = find_missing_number(numbers)\n",
    "print(missing_number)"
   ]
  },
  {
   "cell_type": "markdown",
   "id": "6e838d6c",
   "metadata": {},
   "source": [
    "que39- Write a program to find the sum of digits of a given number."
   ]
  },
  {
   "cell_type": "markdown",
   "id": "40795a93",
   "metadata": {},
   "source": [
    "ans39-"
   ]
  },
  {
   "cell_type": "code",
   "execution_count": 199,
   "id": "d1576339",
   "metadata": {},
   "outputs": [
    {
     "name": "stdout",
     "output_type": "stream",
     "text": [
      "21\n"
     ]
    }
   ],
   "source": [
    "def sum_of_digits(number):\n",
    "    if number < 0:\n",
    "        number = abs(number)  # Convert negative number to positive for the sum of digits\n",
    "    \n",
    "    digit_sum = 0\n",
    "    while number > 0:\n",
    "        digit_sum += number % 10\n",
    "        number //= 10\n",
    "    \n",
    "    return digit_sum\n",
    "\n",
    "#Example-\n",
    "number = 123456\n",
    "result = sum_of_digits(number)\n",
    "print(result)"
   ]
  },
  {
   "cell_type": "markdown",
   "id": "c216838e",
   "metadata": {},
   "source": [
    "que40- Implement a function to check if a given string is a valid palindrome considering case sensitivity."
   ]
  },
  {
   "cell_type": "markdown",
   "id": "88c8bf4e",
   "metadata": {},
   "source": [
    "ans40-"
   ]
  },
  {
   "cell_type": "code",
   "execution_count": 204,
   "id": "ff7b2b99",
   "metadata": {},
   "outputs": [
    {
     "name": "stdout",
     "output_type": "stream",
     "text": [
      "The string is valid Palindrome\n",
      "The string is not valid Palindrome\n"
     ]
    }
   ],
   "source": [
    "def is_valid_palindrome(string):\n",
    "    # Remove any non-alphanumeric characters and convert to lowercase\n",
    "    cleaned_string = ''.join(char.lower() for char in string if char.isalnum())\n",
    "    \n",
    "    # Check if the cleaned string is equal to its reverse\n",
    "    if cleaned_string == cleaned_string[::-1]:\n",
    "        print(\"The string is valid Palindrome\")   \n",
    "    else:\n",
    "        print(\"The string is not valid Palindrome\")\n",
    "\n",
    "#Example1-\n",
    "input_string1 = \"A man, a plan, a canal, Panama!\"\n",
    "is_valid_palindrome(input_string1)\n",
    "\n",
    "#Example2-\n",
    "input_string2 = \"Hello, world!\"\n",
    "is_valid_palindrome(input_string2)"
   ]
  },
  {
   "cell_type": "markdown",
   "id": "ab5daafd",
   "metadata": {},
   "source": [
    "que43- Write a program to find the number of occurrences of a given element in a list."
   ]
  },
  {
   "cell_type": "markdown",
   "id": "8b8340a5",
   "metadata": {},
   "source": [
    "ans43- "
   ]
  },
  {
   "cell_type": "code",
   "execution_count": 207,
   "id": "3c21fa01",
   "metadata": {},
   "outputs": [
    {
     "name": "stdout",
     "output_type": "stream",
     "text": [
      "3\n"
     ]
    }
   ],
   "source": [
    "def count_occurrences(lst, element):\n",
    "    count = 0\n",
    "    for item in lst:\n",
    "        if item == element:\n",
    "            count += 1\n",
    "    return count\n",
    "\n",
    "#Example-\n",
    "numbers = [1, 2, 3, 2, 4, 2, 5]\n",
    "element = 2\n",
    "occurrences = count_occurrences(numbers, element)\n",
    "print(occurrences)"
   ]
  },
  {
   "cell_type": "markdown",
   "id": "00f6fbe6",
   "metadata": {},
   "source": [
    "que44- Implement a function to check if a given number is a perfect number."
   ]
  },
  {
   "cell_type": "markdown",
   "id": "9f43b84f",
   "metadata": {},
   "source": [
    "ans44-"
   ]
  },
  {
   "cell_type": "code",
   "execution_count": 210,
   "id": "ef5e92ad",
   "metadata": {},
   "outputs": [
    {
     "name": "stdout",
     "output_type": "stream",
     "text": [
      "True\n"
     ]
    }
   ],
   "source": [
    "def is_perfect_number(number):\n",
    "    if number <= 0:\n",
    "        return False\n",
    "\n",
    "    divisor_sum = sum(i for i in range(1, number) if number % i == 0)\n",
    "    return divisor_sum == number\n",
    "\n",
    "#Example-\n",
    "number = 28\n",
    "result = is_perfect_number(number)\n",
    "print(result)"
   ]
  },
  {
   "cell_type": "markdown",
   "id": "c75625fd",
   "metadata": {},
   "source": [
    "que45- Write a Python program to remove all duplicates from a string."
   ]
  },
  {
   "cell_type": "markdown",
   "id": "71a840c3",
   "metadata": {},
   "source": [
    "ans45-"
   ]
  },
  {
   "cell_type": "code",
   "execution_count": 213,
   "id": "048cb669",
   "metadata": {},
   "outputs": [
    {
     "name": "stdout",
     "output_type": "stream",
     "text": [
      "Helo, Wrd!\n"
     ]
    }
   ],
   "source": [
    "def remove_duplicates(string):\n",
    "    # Create an empty set to store unique characters\n",
    "    unique_chars = set()\n",
    "    \n",
    "    # Iterate over each character in the string\n",
    "    result = \"\"\n",
    "    for char in string:\n",
    "        if char not in unique_chars:\n",
    "            unique_chars.add(char)\n",
    "            result += char\n",
    "    \n",
    "    return result\n",
    "\n",
    "#Example-\n",
    "string = \"Hello, World!\"\n",
    "result = remove_duplicates(string)\n",
    "print(result)"
   ]
  }
 ],
 "metadata": {
  "kernelspec": {
   "display_name": "Python 3 (ipykernel)",
   "language": "python",
   "name": "python3"
  },
  "language_info": {
   "codemirror_mode": {
    "name": "ipython",
    "version": 3
   },
   "file_extension": ".py",
   "mimetype": "text/x-python",
   "name": "python",
   "nbconvert_exporter": "python",
   "pygments_lexer": "ipython3",
   "version": "3.9.7"
  }
 },
 "nbformat": 4,
 "nbformat_minor": 5
}
